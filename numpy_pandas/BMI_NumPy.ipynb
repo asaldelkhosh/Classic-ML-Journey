{
 "cells": [
  {
   "cell_type": "code",
   "execution_count": 1,
   "id": "5c8e9b1f",
   "metadata": {},
   "outputs": [],
   "source": [
    "import numpy as np"
   ]
  },
  {
   "cell_type": "code",
   "execution_count": 2,
   "id": "42658207",
   "metadata": {},
   "outputs": [],
   "source": [
    "# Create list of basket boll player named height_cm\n",
    "height_cm = [180, 215, 210, 210, 188, 176, 209, 200 , 210 , 189 , 210]"
   ]
  },
  {
   "cell_type": "code",
   "execution_count": 3,
   "id": "70bd3ed5",
   "metadata": {},
   "outputs": [],
   "source": [
    "# Create a numpy array from height_cm: np_height_cm\n",
    "np_height_cm = np.array(height_cm)"
   ]
  },
  {
   "cell_type": "code",
   "execution_count": 5,
   "id": "fd79857a",
   "metadata": {},
   "outputs": [
    {
     "name": "stdout",
     "output_type": "stream",
     "text": [
      "<class 'numpy.ndarray'>\n"
     ]
    }
   ],
   "source": [
    "# Printing type of np_height_cm\n",
    "print(type(np_height_cm))"
   ]
  },
  {
   "cell_type": "code",
   "execution_count": 6,
   "id": "df3fde51",
   "metadata": {},
   "outputs": [
    {
     "data": {
      "text/plain": [
       "array([180, 215, 210, 210, 188, 176, 209, 200, 210, 189, 210])"
      ]
     },
     "execution_count": 6,
     "metadata": {},
     "output_type": "execute_result"
    }
   ],
   "source": [
    "# Printing the array\n",
    "np_height_cm"
   ]
  },
  {
   "cell_type": "code",
   "execution_count": 7,
   "id": "099ea818",
   "metadata": {},
   "outputs": [
    {
     "data": {
      "text/plain": [
       "array([1.8 , 2.15, 2.1 , 2.1 , 1.88, 1.76, 2.09, 2.  , 2.1 , 1.89, 2.1 ])"
      ]
     },
     "execution_count": 7,
     "metadata": {},
     "output_type": "execute_result"
    }
   ],
   "source": [
    "# Turning cm to metre\n",
    "np_height_m = np_height_cm/100\n",
    "np_height_m"
   ]
  },
  {
   "cell_type": "code",
   "execution_count": 15,
   "id": "6064f2ea",
   "metadata": {},
   "outputs": [
    {
     "data": {
      "text/plain": [
       "array([ 67.5 , 123.75,  76.05, 106.2 ,  63.  ,  70.2 , 126.  , 121.05,\n",
       "        76.95, 117.45, 106.65])"
      ]
     },
     "execution_count": 15,
     "metadata": {},
     "output_type": "execute_result"
    }
   ],
   "source": [
    "# Create list weight_pound\n",
    "weight_pound = [150 , 275 , 169 , 236 , 140 , 156 , 280 , 269 , 171 , 261 , 237]\n",
    "\n",
    "# Create a numpy array from weight_pound: np_weight_pound\n",
    "np_weight_pound = np.array(weight_pound)\n",
    "\n",
    "# Create an array from np_weight_pound, based on kg\n",
    "np_weight_kg = np_weight_pound*0.45\n",
    "np_weight_kg"
   ]
  },
  {
   "cell_type": "code",
   "execution_count": 16,
   "id": "4deeb40b",
   "metadata": {},
   "outputs": [
    {
     "data": {
      "text/plain": [
       "array([20.83333333, 26.77122769, 17.24489796, 24.08163265, 17.82480761,\n",
       "       22.66270661, 28.84549346, 30.2625    , 17.44897959, 32.87981859,\n",
       "       24.18367347])"
      ]
     },
     "execution_count": 16,
     "metadata": {},
     "output_type": "execute_result"
    }
   ],
   "source": [
    "# calcuting players bmi\n",
    "bmi = np_weight_kg / (np_height_m**2)\n",
    "bmi"
   ]
  },
  {
   "cell_type": "code",
   "execution_count": 20,
   "id": "8c45977e",
   "metadata": {},
   "outputs": [
    {
     "data": {
      "text/plain": [
       "array([False, False,  True, False,  True, False, False, False,  True,\n",
       "       False, False])"
      ]
     },
     "execution_count": 20,
     "metadata": {},
     "output_type": "execute_result"
    }
   ],
   "source": [
    "# Create a boolean array to show players with less bmi than 18.5\n",
    "light = bmi < 18.5\n",
    "light"
   ]
  },
  {
   "cell_type": "code",
   "execution_count": 22,
   "id": "67885968",
   "metadata": {},
   "outputs": [
    {
     "name": "stdout",
     "output_type": "stream",
     "text": [
      "[17.24489796 17.82480761 17.44897959]\n"
     ]
    }
   ],
   "source": [
    "# Now we print thoseless than 18.5\n",
    "print(bmi[light])"
   ]
  },
  {
   "cell_type": "code",
   "execution_count": 23,
   "id": "49b2396c",
   "metadata": {},
   "outputs": [],
   "source": [
    "# std: show how close data are to mean\n",
    "#Calculate mean\n",
    "mean_bmi = np.mean(bmi)\n",
    "#Calculate min\n",
    "min_bmi = np.min(bmi)\n",
    "#Calculate max\n",
    "max_bmi = np.max(bmi)\n",
    "#Calculate median\n",
    "median_bmi = np.median(bmi)\n",
    "#Calculate std\n",
    "std_bmi = np.std(bmi)"
   ]
  },
  {
   "cell_type": "code",
   "execution_count": 24,
   "id": "61163bb9",
   "metadata": {},
   "outputs": [
    {
     "name": "stdout",
     "output_type": "stream",
     "text": [
      "Min :  17.24489795918367\n",
      "Max :  32.87981859410431\n",
      "Mean :  23.912642815668143\n",
      "Median :  24.081632653061224\n",
      "Std :  5.113986655002092\n"
     ]
    }
   ],
   "source": [
    "# Print the results\n",
    "print(\"Min : \" , min_bmi)\n",
    "print(\"Max : \" , max_bmi)\n",
    "print(\"Mean : \" , mean_bmi)\n",
    "print(\"Median : \" , median_bmi)\n",
    "print(\"Std : \" , std_bmi)"
   ]
  }
 ],
 "metadata": {
  "kernelspec": {
   "display_name": "Python 3 (ipykernel)",
   "language": "python",
   "name": "python3"
  },
  "language_info": {
   "codemirror_mode": {
    "name": "ipython",
    "version": 3
   },
   "file_extension": ".py",
   "mimetype": "text/x-python",
   "name": "python",
   "nbconvert_exporter": "python",
   "pygments_lexer": "ipython3",
   "version": "3.7.4"
  }
 },
 "nbformat": 4,
 "nbformat_minor": 5
}

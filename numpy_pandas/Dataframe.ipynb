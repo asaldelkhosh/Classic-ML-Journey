{
 "cells": [
  {
   "cell_type": "code",
   "execution_count": 1,
   "id": "71c481d4",
   "metadata": {},
   "outputs": [],
   "source": [
    "import pandas as pd"
   ]
  },
  {
   "cell_type": "code",
   "execution_count": 3,
   "id": "55c31f21",
   "metadata": {},
   "outputs": [
    {
     "data": {
      "text/html": [
       "<div>\n",
       "<style scoped>\n",
       "    .dataframe tbody tr th:only-of-type {\n",
       "        vertical-align: middle;\n",
       "    }\n",
       "\n",
       "    .dataframe tbody tr th {\n",
       "        vertical-align: top;\n",
       "    }\n",
       "\n",
       "    .dataframe thead th {\n",
       "        text-align: right;\n",
       "    }\n",
       "</style>\n",
       "<table border=\"1\" class=\"dataframe\">\n",
       "  <thead>\n",
       "    <tr style=\"text-align: right;\">\n",
       "      <th></th>\n",
       "      <th>apple</th>\n",
       "      <th>banana</th>\n",
       "    </tr>\n",
       "  </thead>\n",
       "  <tbody>\n",
       "    <tr>\n",
       "      <th>2020</th>\n",
       "      <td>20</td>\n",
       "      <td>12</td>\n",
       "    </tr>\n",
       "    <tr>\n",
       "      <th>2021</th>\n",
       "      <td>25</td>\n",
       "      <td>30</td>\n",
       "    </tr>\n",
       "  </tbody>\n",
       "</table>\n",
       "</div>"
      ],
      "text/plain": [
       "      apple  banana\n",
       "2020     20      12\n",
       "2021     25      30"
      ]
     },
     "execution_count": 3,
     "metadata": {},
     "output_type": "execute_result"
    }
   ],
   "source": [
    "fruits = {\"apple\":[20 , 25] , \"banana\":[12 , 30]}\n",
    "years = [2020 , 2021]\n",
    "fruits_df = pd.DataFrame(fruits, index = years)\n",
    "fruits_df"
   ]
  },
  {
   "cell_type": "code",
   "execution_count": 5,
   "id": "346e6c0d",
   "metadata": {},
   "outputs": [],
   "source": [
    "import pandas as pd\n",
    "# Create list of indexes for two series \n",
    "indexes_hardware = [\"Ram\" , \"Cpu\" , \"Gpu\"]"
   ]
  },
  {
   "cell_type": "code",
   "execution_count": 7,
   "id": "84e659a1",
   "metadata": {},
   "outputs": [
    {
     "data": {
      "text/plain": [
       "Ram       DDR5\n",
       "Cpu     Corei9\n",
       "Gpu    RTX3090\n",
       "Name: hardware_1, dtype: object"
      ]
     },
     "execution_count": 7,
     "metadata": {},
     "output_type": "execute_result"
    }
   ],
   "source": [
    "# Create list of values for hardware_1 \n",
    "values_hardware_1 = [\"DDR5\" , \"Corei9\" , \"RTX3090\"]\n",
    "hardware_1 = pd.Series(values_hardware_1 , index = indexes_hardware , name = \"hardware_1\")\n",
    "hardware_1"
   ]
  },
  {
   "cell_type": "code",
   "execution_count": 8,
   "id": "89fe2f11",
   "metadata": {},
   "outputs": [
    {
     "data": {
      "text/plain": [
       "Ram       DDR4\n",
       "Cpu     Corei7\n",
       "Gpu    RTX3060\n",
       "Name: hardware_2, dtype: object"
      ]
     },
     "execution_count": 8,
     "metadata": {},
     "output_type": "execute_result"
    }
   ],
   "source": [
    "# Create list of values for hardware_2 \n",
    "values_hardware_2 = [\"DDR4\" , \"Corei7\" , \"RTX3060\"]\n",
    "hardware_2 = pd.Series(values_hardware_2 , index = indexes_hardware , name = \"hardware_2\")\n",
    "hardware_2"
   ]
  },
  {
   "cell_type": "code",
   "execution_count": 9,
   "id": "9a5e26a3",
   "metadata": {},
   "outputs": [
    {
     "data": {
      "text/html": [
       "<div>\n",
       "<style scoped>\n",
       "    .dataframe tbody tr th:only-of-type {\n",
       "        vertical-align: middle;\n",
       "    }\n",
       "\n",
       "    .dataframe tbody tr th {\n",
       "        vertical-align: top;\n",
       "    }\n",
       "\n",
       "    .dataframe thead th {\n",
       "        text-align: right;\n",
       "    }\n",
       "</style>\n",
       "<table border=\"1\" class=\"dataframe\">\n",
       "  <thead>\n",
       "    <tr style=\"text-align: right;\">\n",
       "      <th></th>\n",
       "      <th>hardware_1</th>\n",
       "      <th>hardware_2</th>\n",
       "    </tr>\n",
       "  </thead>\n",
       "  <tbody>\n",
       "    <tr>\n",
       "      <th>Ram</th>\n",
       "      <td>DDR5</td>\n",
       "      <td>DDR4</td>\n",
       "    </tr>\n",
       "    <tr>\n",
       "      <th>Cpu</th>\n",
       "      <td>Corei9</td>\n",
       "      <td>Corei7</td>\n",
       "    </tr>\n",
       "    <tr>\n",
       "      <th>Gpu</th>\n",
       "      <td>RTX3090</td>\n",
       "      <td>RTX3060</td>\n",
       "    </tr>\n",
       "  </tbody>\n",
       "</table>\n",
       "</div>"
      ],
      "text/plain": [
       "    hardware_1 hardware_2\n",
       "Ram       DDR5       DDR4\n",
       "Cpu     Corei9     Corei7\n",
       "Gpu    RTX3090    RTX3060"
      ]
     },
     "execution_count": 9,
     "metadata": {},
     "output_type": "execute_result"
    }
   ],
   "source": [
    "system = pd.concat([hardware_1 , hardware_2] , axis=1)\n",
    "system"
   ]
  }
 ],
 "metadata": {
  "kernelspec": {
   "display_name": "Python 3 (ipykernel)",
   "language": "python",
   "name": "python3"
  },
  "language_info": {
   "codemirror_mode": {
    "name": "ipython",
    "version": 3
   },
   "file_extension": ".py",
   "mimetype": "text/x-python",
   "name": "python",
   "nbconvert_exporter": "python",
   "pygments_lexer": "ipython3",
   "version": "3.7.4"
  }
 },
 "nbformat": 4,
 "nbformat_minor": 5
}
